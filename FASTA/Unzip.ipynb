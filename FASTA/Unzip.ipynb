{
 "cells": [
  {
   "cell_type": "code",
   "execution_count": 1,
   "id": "0a78d26f-950a-4490-b042-459130a7b4fd",
   "metadata": {},
   "outputs": [
    {
     "name": "stdout",
     "output_type": "stream",
     "text": [
      "Files extracted: ['ionchannels', 'iontransporters', 'membraneproteins']\n"
     ]
    }
   ],
   "source": [
    "import zipfile\n",
    "import os\n",
    "\n",
    "# Path to the zip file\n",
    "zip_file_path = 'D:/Evan/DeepIon_for_github/FASTA/Deep_Ion.zip'\n",
    "\n",
    "# Directory where you want to extract the files\n",
    "extracted_folder = 'D:/Evan/DeepIon_for_github/FASTA/extracted'\n",
    "\n",
    "# Create the destination folder if it doesn't exist\n",
    "os.makedirs(extracted_folder, exist_ok=True)\n",
    "\n",
    "# Open the zip file\n",
    "with zipfile.ZipFile(zip_file_path, 'r') as zip_ref:\n",
    "    # Extract all the contents into the destination folder\n",
    "    zip_ref.extractall(extracted_folder)\n",
    "\n",
    "# Check the extracted files\n",
    "extracted_files = os.listdir(extracted_folder)\n",
    "print(\"Files extracted:\", extracted_files)"
   ]
  }
 ],
 "metadata": {
  "kernelspec": {
   "display_name": "Python 3 (ipykernel)",
   "language": "python",
   "name": "python3"
  },
  "language_info": {
   "codemirror_mode": {
    "name": "ipython",
    "version": 3
   },
   "file_extension": ".py",
   "mimetype": "text/x-python",
   "name": "python",
   "nbconvert_exporter": "python",
   "pygments_lexer": "ipython3",
   "version": "3.10.2"
  }
 },
 "nbformat": 4,
 "nbformat_minor": 5
}
