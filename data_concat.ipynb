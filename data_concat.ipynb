{
 "cells": [
  {
   "cell_type": "code",
   "execution_count": 3,
   "id": "d56bad0a-43f2-4b57-8507-7a7a02f984be",
   "metadata": {
    "tags": []
   },
   "outputs": [],
   "source": [
    "import os\n",
    "import glob\n",
    "import numpy as np\n",
    "import time\n",
    "from tqdm import tqdm\n",
    "import tensorflow as tf\n",
    "import gc\n",
    "from imblearn.over_sampling import SMOTE,ADASYN,RandomOverSampler"
   ]
  },
  {
   "cell_type": "code",
   "execution_count": 10,
   "id": "b7000db3-2906-461e-8c88-72ca94ceff20",
   "metadata": {
    "tags": []
   },
   "outputs": [],
   "source": [
    "# # FEATURE : \"pt\" or \"esm2\" or \"esm1b\" or \"tape\"\n",
    "# FEATURE = \"esm1b\"\n",
    "\n",
    "# # MAXSEQ : length\n",
    "# length = 1000\n",
    "\n",
    "# # NUM_FEATURE : dim\n",
    "# dim = 1280\n",
    "\n",
    "# ch_train = glob.glob(f\"ESM_out/{FEATURE}_d{dim}_L{length}/ionchannels/train/*\")\n",
    "# ch_test = glob.glob(f\"ESM_out/{FEATURE}_d{dim}_L{length}/ionchannels/test/*\")\n",
    "# tr_train = glob.glob(f\"ESM_out/{FEATURE}_d{dim}_L{length}/iontransporters/train/*\")\n",
    "# tr_test = glob.glob(f\"ESM_out/{FEATURE}_d{dim}_L{length}/iontransporters/test/*\")\n",
    "# me_train = glob.glob(f\"ESM_out/{FEATURE}_d{dim}_L{length}/membraneproteins/train/*\")\n",
    "# me_test = glob.glob(f\"ESM_out/{FEATURE}_d{dim}_L{length}/membraneproteins/test/*\")\n",
    "\n",
    "# print(len(ch_train))\n",
    "# print(len(ch_test))\n",
    "# print(len(tr_train))\n",
    "# print(len(tr_test))\n",
    "# print(len(me_train))\n",
    "# print(len(me_test))"
   ]
  },
  {
   "cell_type": "markdown",
   "id": "b0de30a3-46da-488d-ab8b-25426c0d718a",
   "metadata": {},
   "source": [
    "# Concat"
   ]
  },
  {
   "cell_type": "code",
   "execution_count": 4,
   "id": "9635e770-a6df-4e00-8dc9-61b0005f2900",
   "metadata": {
    "tags": []
   },
   "outputs": [],
   "source": [
    "def MCNN_add_data_load(pos_path, neg_path, imb_mod=\"None\", NUM_CLASSES=2):\n",
    "    data_list = []\n",
    "    label_list = []\n",
    "    \n",
    "    for i in tqdm(pos_path, desc=\"Loading data\", unit=\"file\"):\n",
    "        data = np.load(i).astype(\"float16\")\n",
    "        data_list.append(data)\n",
    "        label_list.append(1)\n",
    "        \n",
    "        # pos_path.set_description('Pos')\n",
    "        # break\n",
    "    \n",
    "    for j in tqdm(neg_path, desc=\"Loading data\", unit=\"file\"):\n",
    "        data = np.load(j).astype(\"float16\")\n",
    "        data_list.append(data)\n",
    "        label_list.append(0)\n",
    "        \n",
    "    \n",
    "    \n",
    "    x_train = np.concatenate(data_list, axis=0)\n",
    "    y_train = np.array(label_list)\n",
    "\n",
    "    x_shape = x_train.shape\n",
    "    \n",
    "    print(x_shape)\n",
    "    \n",
    "    # 獲取數據的索引並打亂它們\n",
    "    num_samples = len(x_train)\n",
    "    shuffle_indices = np.arange(num_samples)\n",
    "    np.random.shuffle(shuffle_indices)\n",
    "    \n",
    "    # 使用打亂後的索引重新排列特徵和標籤數組\n",
    "    x_train = x_train[shuffle_indices].reshape(x_shape[0], 1, x_shape[1], x_shape[2])\n",
    "\n",
    "    if imb_mod != \"None\":\n",
    "        y_train = y_train[shuffle_indices]\n",
    "    else:\n",
    "        y_train = tf.keras.utils.to_categorical(y_train[shuffle_indices], NUM_CLASSES)\n",
    "        \n",
    "    return x_train, y_train"
   ]
  },
  {
   "cell_type": "code",
   "execution_count": 5,
   "id": "958b2ac1-3eb2-4edb-8a63-c2ea6c334eef",
   "metadata": {
    "tags": []
   },
   "outputs": [],
   "source": [
    "# FEATURE : \"pt\" or \"esm2\"\n",
    "# MAXSEQ : length\n",
    "# NUM_FEATURE : dim\n",
    "# DATA_TYPE : \"ch\", \"tr\", \"me\"\n",
    "# IMBALANCE : \"SMOTE\", \"ADASYN\", \"RANDOM\"\n",
    "# ClASS : \"A\", \"B\"\n",
    "# SET : \"train\", \"test\"\n",
    "\n",
    "def imb(FEATURE, MAXSEQ, NUM_FEATURE, DATA_TYPE,  ClASS, SET, IMBALANCE=\"None\", NUM_CLASSES=2):\n",
    "    print(f\"********************** {FEATURE} **********************\")\n",
    "    \n",
    "    ch_train = glob.glob(f\"get_feature/example/{FEATURE}_d{NUM_FEATURE}_L{MAXSEQ}/ionchannels/train/*\")\n",
    "    ch_test = glob.glob(f\"get_feature/example/{FEATURE}_d{NUM_FEATURE}_L{MAXSEQ}/ionchannels/test/*\")\n",
    "    tr_train = glob.glob(f\"get_feature/example/{FEATURE}_d{NUM_FEATURE}_L{MAXSEQ}/iontransporters/train/*\")\n",
    "    tr_test = glob.glob(f\"get_feature/example/{FEATURE}_d{NUM_FEATURE}_L{MAXSEQ}/iontransporters/test/*\")\n",
    "    me_train = glob.glob(f\"get_feature/example/{FEATURE}_d{NUM_FEATURE}_L{MAXSEQ}/membraneproteins/train/*\")\n",
    "    me_test = glob.glob(f\"get_feature/example/{FEATURE}_d{NUM_FEATURE}_L{MAXSEQ}/membraneproteins/test/*\")\n",
    "    \n",
    "    # print(len(ch_train))\n",
    "    # print(len(ch_test))\n",
    "    # print(len(tr_train))\n",
    "    # print(len(tr_test))\n",
    "    # print(len(me_train))\n",
    "    # print(len(me_test))\n",
    "\n",
    "    if DATA_TYPE == \"ch\":\n",
    "        pos_train = ch_train\n",
    "        neg_train = tr_train + me_train\n",
    "        \n",
    "        pos_test = ch_test\n",
    "        neg_test = tr_test + me_test\n",
    "        print(\"********************** pos : ionchannels **********************\")\n",
    "    \n",
    "    elif DATA_TYPE == \"tr\":\n",
    "        pos_train = tr_train\n",
    "        neg_train = ch_train + me_train\n",
    "        \n",
    "        pos_test = tr_test\n",
    "        neg_test = ch_test + me_test\n",
    "        print(\"********************** pos : iontransporters **********************\")\n",
    "    \n",
    "    elif DATA_TYPE == \"me\":\n",
    "        pos_train = me_train\n",
    "        neg_train = ch_train + tr_train\n",
    "        \n",
    "        pos_test = me_test\n",
    "        neg_test = ch_test + tr_test \n",
    "        print(\"********************** pos : membraneproteins **********************\")\n",
    "\n",
    "    \"==============================================================================================\"\n",
    "    if SET==\"train\":\n",
    "        print(\"********************** SET : Train loadding **********************\")\n",
    "        x_train, y_train = MCNN_add_data_load(pos_train, neg_train, imb_mod=IMBALANCE)\n",
    "        print(\"Class:\", x_train.shape, y_train.shape)\n",
    "\n",
    "\n",
    "    elif SET==\"test\":\n",
    "        print(\"********************** SET : Test loadding **********************\")\n",
    "        x_test, y_test= MCNN_add_data_load(pos_test, neg_test)\n",
    "        print(\"Class:\", x_test.shape, y_test.shape)\n",
    "        np.savez(f\"get_feature/example/{FEATURE}_d{NUM_FEATURE}_L{MAXSEQ}/Class_{ClASS}_L{MAXSEQ}_d{NUM_FEATURE}_test_{FEATURE}.npz\", feature=x_test, label=y_test)\n",
    "    \"==============================================================================================\"\n",
    "    \n",
    "    if IMBALANCE!=\"None\" and SET==\"train\":\n",
    "    \n",
    "        # 將 x_train 的形狀重新整形為二維\n",
    "        x_train_2d = x_train.reshape(x_train.shape[0], -1)\n",
    "        print(x_train_2d.shape)\n",
    "        print(y_train.shape)\n",
    "        \n",
    "        del x_train\n",
    "        gc.collect()\n",
    "        \n",
    "        #print(y_train.shape)\n",
    "        # 創建 SMOTE 物件\n",
    "        if IMBALANCE==\"SMOTE\":\n",
    "            imbalance = SMOTE(random_state=42)\n",
    "        elif IMBALANCE==\"ADASYN\":\n",
    "            imbalance = ADASYN(random_state=42)\n",
    "        elif IMBALANCE==\"RANDOM\":\n",
    "            imbalance = RandomOverSampler(random_state=42)\n",
    "            \n",
    "        print(\"imb:\", IMBALANCE)\n",
    "        \n",
    "    \n",
    "        # 使用 fit_resample 進行過採樣\n",
    "        x_train_resampled, y_train_resampled = imbalance.fit_resample(x_train_2d, y_train)\n",
    "    \n",
    "        # 將 x_train_resampled 的形狀恢復為四維\n",
    "        x_train_resampled = x_train_resampled.reshape(x_train_resampled.shape[0], 1,MAXSEQ, NUM_FEATURE)\n",
    "    \n",
    "        print(x_train_resampled.shape)\n",
    "        print(y_train_resampled.shape)\n",
    "    \n",
    "        x_train=x_train_resampled\n",
    "        y_train=y_train_resampled\n",
    "        \n",
    "        del x_train_resampled\n",
    "        del y_train_resampled\n",
    "        del x_train_2d\n",
    "        gc.collect()\n",
    "    \n",
    "        y_train = tf.keras.utils.to_categorical(y_train,NUM_CLASSES)\n",
    "        \n",
    "        print(\"不平衡處理 :\", x_train.shape, y_train.shape)\n",
    "\n",
    "        \n",
    "        np.savez(f\"get_feature/example/{FEATURE}_d{NUM_FEATURE}_L{MAXSEQ}/Class_{ClASS}_L{MAXSEQ}_d{NUM_FEATURE}_{IMBALANCE}_{FEATURE}.npz\", feature=x_train, label=y_train)\n",
    "        del x_train\n",
    "        del y_train\n",
    "        gc.collect()\n",
    "        \n",
    "    elif IMBALANCE==\"None\" and SET==\"train\":\n",
    "        np.savez(f\"get_feature/example/{FEATURE}_d{NUM_FEATURE}_L{MAXSEQ}/Class_{ClASS}_L{MAXSEQ}_d{NUM_FEATURE}_{IMBALANCE}_{FEATURE}.npz\", feature=x_train, label=y_train)\n",
    "        del x_train\n",
    "        del y_train\n",
    "        gc.collect()\n"
   ]
  },
  {
   "cell_type": "code",
   "execution_count": 6,
   "id": "44e9df7c-792b-4056-956a-82bb1b60ac11",
   "metadata": {
    "tags": []
   },
   "outputs": [
    {
     "name": "stdout",
     "output_type": "stream",
     "text": [
      "********************** pt **********************\n",
      "********************** pos : ionchannels **********************\n",
      "********************** SET : Train loadding **********************\n"
     ]
    },
    {
     "name": "stderr",
     "output_type": "stream",
     "text": [
      "Loading data: 100%|█████████████████████████████████████████████████████████████████| 10/10 [00:00<00:00, 127.53file/s]\n",
      "Loading data: 100%|█████████████████████████████████████████████████████████████████| 20/20 [00:00<00:00, 141.84file/s]\n"
     ]
    },
    {
     "name": "stdout",
     "output_type": "stream",
     "text": [
      "(30, 1000, 1024)\n",
      "Class: (30, 1, 1000, 1024) (30, 2)\n",
      "********************** pt **********************\n",
      "********************** pos : iontransporters **********************\n",
      "********************** SET : Train loadding **********************\n"
     ]
    },
    {
     "name": "stderr",
     "output_type": "stream",
     "text": [
      "Loading data: 100%|█████████████████████████████████████████████████████████████████| 10/10 [00:00<00:00, 156.25file/s]\n",
      "Loading data: 100%|█████████████████████████████████████████████████████████████████| 20/20 [00:00<00:00, 161.29file/s]\n"
     ]
    },
    {
     "name": "stdout",
     "output_type": "stream",
     "text": [
      "(30, 1000, 1024)\n",
      "Class: (30, 1, 1000, 1024) (30, 2)\n",
      "********************** pt **********************\n",
      "********************** pos : ionchannels **********************\n",
      "********************** SET : Test loadding **********************\n"
     ]
    },
    {
     "name": "stderr",
     "output_type": "stream",
     "text": [
      "Loading data: 100%|█████████████████████████████████████████████████████████████████| 10/10 [00:00<00:00, 138.89file/s]\n",
      "Loading data: 100%|█████████████████████████████████████████████████████████████████| 20/20 [00:00<00:00, 136.99file/s]\n"
     ]
    },
    {
     "name": "stdout",
     "output_type": "stream",
     "text": [
      "(30, 1000, 1024)\n",
      "Class: (30, 1, 1000, 1024) (30, 2)\n",
      "********************** pt **********************\n",
      "********************** pos : iontransporters **********************\n",
      "********************** SET : Test loadding **********************\n"
     ]
    },
    {
     "name": "stderr",
     "output_type": "stream",
     "text": [
      "Loading data: 100%|█████████████████████████████████████████████████████████████████| 10/10 [00:00<00:00, 156.25file/s]\n",
      "Loading data: 100%|█████████████████████████████████████████████████████████████████| 20/20 [00:00<00:00, 165.29file/s]\n"
     ]
    },
    {
     "name": "stdout",
     "output_type": "stream",
     "text": [
      "(30, 1000, 1024)\n",
      "Class: (30, 1, 1000, 1024) (30, 2)\n"
     ]
    }
   ],
   "source": [
    "# FEATURE : \"pt\" or \"esm2\" or \"esm1b\" or \"tape\"\n",
    "FEATURE = \"pt\"\n",
    "\n",
    "# MAXSEQ : length\n",
    "MAXSEQ = 1000\n",
    "\n",
    "# NUM_FEATURE : dim\n",
    "NUM_FEATURE = 1024\n",
    "\n",
    "# DATA_TYPE : \"ch\", \"tr\" (\"ch\" is ionchannels, \"tr\" is iontransporters)\n",
    "# IMBALANCE : \"SMOTE\", \"ADASYN\", \"RANDOM\"\n",
    "# ClASS : \"A\", \"B\" (\"A\" is ionchannels, \"B\" is iontransporters)\n",
    "# SET : \"train\", \"test\"\n",
    "\n",
    "\n",
    "\"---------------------------- funtion ----------------------------\"\n",
    "# imb(FEATURE, MAXSEQ, NUM_FEATURE, \"ch\", \"A\", \"train\", \"SMOTE\")\n",
    "# imb(FEATURE, MAXSEQ, NUM_FEATURE, \"ch\", \"A\", \"train\", \"ADASYN\")\n",
    "# imb(FEATURE, MAXSEQ, NUM_FEATURE, \"ch\", \"A\", \"train\", \"RANDOM\")\n",
    "\n",
    "# imb(FEATURE, MAXSEQ, NUM_FEATURE, \"tr\", \"B\", \"train\", \"SMOTE\")\n",
    "# imb(FEATURE, MAXSEQ, NUM_FEATURE, \"tr\", \"B\", \"train\", \"ADASYN\")\n",
    "# imb(FEATURE, MAXSEQ, NUM_FEATURE, \"tr\", \"B\", \"train\", \"RANDOM\")\n",
    "\n",
    "\"---------------------------- no imb ----------------------------\"\n",
    "imb(FEATURE, MAXSEQ, NUM_FEATURE, \"ch\", \"A\", \"train\")\n",
    "imb(FEATURE, MAXSEQ, NUM_FEATURE, \"tr\", \"B\", \"train\")\n",
    "\n",
    "imb(FEATURE, MAXSEQ, NUM_FEATURE, \"ch\", \"A\", \"test\")\n",
    "imb(FEATURE, MAXSEQ, NUM_FEATURE, \"tr\", \"B\", \"test\")"
   ]
  }
 ],
 "metadata": {
  "kernelspec": {
   "display_name": "Python 3 (ipykernel)",
   "language": "python",
   "name": "python3"
  },
  "language_info": {
   "codemirror_mode": {
    "name": "ipython",
    "version": 3
   },
   "file_extension": ".py",
   "mimetype": "text/x-python",
   "name": "python",
   "nbconvert_exporter": "python",
   "pygments_lexer": "ipython3",
   "version": "3.10.2"
  }
 },
 "nbformat": 4,
 "nbformat_minor": 5
}
