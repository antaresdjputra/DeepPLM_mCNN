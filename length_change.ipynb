{
 "cells": [
  {
   "cell_type": "code",
   "execution_count": 1,
   "id": "997ff019-4d0b-4b45-ae92-6c53b0feeb4b",
   "metadata": {
    "tags": []
   },
   "outputs": [],
   "source": [
    "import os\n",
    "import glob\n",
    "import numpy as np\n",
    "\n",
    "from tqdm import tqdm\n"
   ]
  },
  {
   "cell_type": "markdown",
   "id": "7a3fea00-a3a8-4b83-8cf9-9a1ec881bef6",
   "metadata": {},
   "source": [
    "# length_change"
   ]
  },
  {
   "cell_type": "code",
   "execution_count": 2,
   "id": "c589a428-abbf-47e1-84c7-ffcc38caca31",
   "metadata": {
    "tags": []
   },
   "outputs": [],
   "source": [
    "def get_feature(input_dir, output_dir,  length, dim, pca_model=\"None\"):\n",
    "    # mkdir\n",
    "    if not os.path.exists(output_dir):\n",
    "        os.makedirs(output_dir)\n",
    "        \n",
    "    for i in tqdm(input_dir, desc=\"Processing\", unit=\"file\"):\n",
    "        name = os.path.basename(i).split(\".\")[0]\n",
    "        save_path = os.path.join(output_dir, name)\n",
    "\n",
    "        if dim == 768:\n",
    "            data = np.load(i).reshape(1, -1, dim)\n",
    "        else:\n",
    "            data = np.loadtxt(i).reshape(1, -1, dim)\n",
    "\n",
    "            \n",
    "        if data.shape[1] < length:\n",
    "            length_pad = length - data.shape[1]\n",
    "            data_pad = np.pad(data, [(0,0), (0,length_pad), (0,0)], mode='constant', constant_values=0)\n",
    "            np.save(save_path, data_pad)\n",
    "            \n",
    "        elif data.shape[1] > length:\n",
    "            data_resize = data[:, :length, :]\n",
    "            np.save(save_path, data_resize)\n",
    "    \n",
    "        else:\n",
    "            np.save(save_path, data)\n",
    "            "
   ]
  },
  {
   "cell_type": "code",
   "execution_count": 3,
   "id": "c51be126-ce4a-4379-8bc3-d9d475260bee",
   "metadata": {
    "tags": []
   },
   "outputs": [
    {
     "name": "stdout",
     "output_type": "stream",
     "text": [
      "10\n",
      "10\n",
      "10\n",
      "10\n",
      "10\n",
      "10\n"
     ]
    },
    {
     "name": "stderr",
     "output_type": "stream",
     "text": [
      "Processing: 100%|████████████████████████████████████████████████████████████████████| 10/10 [00:05<00:00,  1.99file/s]\n",
      "Processing: 100%|████████████████████████████████████████████████████████████████████| 10/10 [00:06<00:00,  1.48file/s]\n",
      "Processing: 100%|████████████████████████████████████████████████████████████████████| 10/10 [00:02<00:00,  4.44file/s]\n",
      "Processing: 100%|████████████████████████████████████████████████████████████████████| 10/10 [00:03<00:00,  2.81file/s]\n",
      "Processing: 100%|████████████████████████████████████████████████████████████████████| 10/10 [00:03<00:00,  2.86file/s]\n",
      "Processing: 100%|████████████████████████████████████████████████████████████████████| 10/10 [00:03<00:00,  3.03file/s]\n"
     ]
    }
   ],
   "source": [
    "# 1024 or 768 or 1280\n",
    "dim = 1024\n",
    "\n",
    "length = 1000\n",
    "\n",
    "# \"pt\" or \"tape\" or \"esm2\"\n",
    "FEATURE = \"pt\"\n",
    "\n",
    "\n",
    "\"---------------------------- input dir ----------------------------\"\n",
    "# ProtTrans\n",
    "if FEATURE == \"pt\":\n",
    "    ch_train = glob.glob(\"PT_out/example/ionchannels/train/*\")\n",
    "    ch_test = glob.glob(\"PT_out/example/ionchannels/test/*\")\n",
    "    tr_train = glob.glob(\"PT_out/example/iontransporters/train/*\")\n",
    "    tr_test = glob.glob(\"PT_out/example/iontransporters/test/*\")\n",
    "    me_train = glob.glob(\"PT_out/example/membraneproteins/train/*\")\n",
    "    me_test = glob.glob(\"PT_out/example/membraneproteins/test/*\")\n",
    "\n",
    "# TAPE\n",
    "elif FEATURE == \"tape\":\n",
    "    ch_train = glob.glob(\"TAPE_out/example/ionchannels/train/*\")\n",
    "    ch_test = glob.glob(\"TAPE_out/example/ionchannels/test/*\")\n",
    "    tr_train = glob.glob(\"TAPE_out/example/iontransporters/train/*\")\n",
    "    tr_test = glob.glob(\"TAPE_out/example/iontransporters/test/*\")\n",
    "    me_train = glob.glob(\"TAPE_out/example/membraneproteins/train/*\")\n",
    "    me_test = glob.glob(\"TAPE_out/example/membraneproteins/test/*\")\n",
    "\n",
    "# esm\n",
    "elif FEATURE == \"esm2\" or FEATURE == \"esm1b\":\n",
    "    ch_train = glob.glob(f\"ESM_out/example/{FEATURE}_d{dim}_L{length}/ionchannels/train/*\")\n",
    "    ch_test = glob.glob(f\"ESM_out/example/{FEATURE}_d{dim}_L{length}/ionchannels/test/*\")\n",
    "    tr_train = glob.glob(f\"ESM_out/example/{FEATURE}_d{dim}_L{length}/iontransporters/train/*\")\n",
    "    tr_test = glob.glob(f\"ESM_out/example/{FEATURE}_d{dim}_L{length}/iontransporters/test/*\")\n",
    "    me_train = glob.glob(f\"ESM_out/example/{FEATURE}_d{dim}_L{length}/membraneproteins/train/*\")\n",
    "    me_test = glob.glob(f\"ESM_out/example/{FEATURE}_d{dim}_L{length}/membraneproteins/test/*\")\n",
    "\n",
    "print(len(ch_train))\n",
    "print(len(ch_test))\n",
    "print(len(tr_train))\n",
    "print(len(tr_test))\n",
    "print(len(me_train))\n",
    "print(len(me_test))\n",
    "\n",
    "\n",
    "\"---------------------------- output dir ----------------------------\"\n",
    "ch_train_out = f\"get_feature/example/{FEATURE}_d{dim}_L{length}/ionchannels/train/\"\n",
    "ch_test_out = f\"get_feature/example/{FEATURE}_d{dim}_L{length}/ionchannels/test/\"\n",
    "tr_train_out = f\"get_feature/example/{FEATURE}_d{dim}_L{length}/iontransporters/train/\"\n",
    "tr_test_out = f\"get_feature/example/{FEATURE}_d{dim}_L{length}/iontransporters/test/\"\n",
    "me_train_out = f\"get_feature/example/{FEATURE}_d{dim}_L{length}/membraneproteins/train/\"\n",
    "me_test_out = f\"get_feature/example/{FEATURE}_d{dim}_L{length}/membraneproteins/test/\"\n",
    "\n",
    "\"---------------------------- funtion ----------------------------\"\n",
    "get_feature(ch_train, ch_train_out, length, dim)\n",
    "get_feature(ch_test, ch_test_out, length, dim)\n",
    "\n",
    "get_feature(tr_train, tr_train_out, length, dim)\n",
    "get_feature(tr_test, tr_test_out, length, dim)\n",
    "\n",
    "get_feature(me_train, me_train_out, length, dim)\n",
    "get_feature(me_test, me_test_out, length, dim)\n",
    "\n"
   ]
  }
 ],
 "metadata": {
  "kernelspec": {
   "display_name": "Python 3 (ipykernel)",
   "language": "python",
   "name": "python3"
  },
  "language_info": {
   "codemirror_mode": {
    "name": "ipython",
    "version": 3
   },
   "file_extension": ".py",
   "mimetype": "text/x-python",
   "name": "python",
   "nbconvert_exporter": "python",
   "pygments_lexer": "ipython3",
   "version": "3.10.2"
  }
 },
 "nbformat": 4,
 "nbformat_minor": 5
}
